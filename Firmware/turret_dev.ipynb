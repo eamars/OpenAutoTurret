{
 "cells": [
  {
   "cell_type": "code",
   "execution_count": 1,
   "id": "12b874f1-0aa9-4c08-82ed-0332097f0a4c",
   "metadata": {},
   "outputs": [],
   "source": [
    "from turret import Turret\n",
    "from cybergear_motor_controller import CyberGearMotorController\n",
    "import logging\n",
    "import can"
   ]
  },
  {
   "cell_type": "code",
   "execution_count": 4,
   "id": "d419e6ad-7d36-4dc7-a1bf-60f4f99d8d8f",
   "metadata": {},
   "outputs": [
    {
     "name": "stderr",
     "output_type": "stream",
     "text": [
      "SocketcanBus was not properly shut down\n"
     ]
    }
   ],
   "source": [
    "bus = can.Bus(channel=\"can0\", interface=\"socketcan\")\n",
    "pitch_motor = CyberGearMotorController(bus=bus, motor_can_id=100)\n",
    "yaw_motor = CyberGearMotorController(bus=bus, motor_can_id=101)\n",
    "turret = Turret(yaw_motor, pitch_motor, dict())"
   ]
  },
  {
   "cell_type": "code",
   "execution_count": 8,
   "id": "c75b5292-7512-4218-8fef-183e08405aed",
   "metadata": {},
   "outputs": [],
   "source": [
    "turret.zero_all()\n"
   ]
  },
  {
   "cell_type": "code",
   "execution_count": 7,
   "id": "35147aa9-b630-4083-bb2d-c8bf8b0ee0a0",
   "metadata": {},
   "outputs": [
    {
     "name": "stdout",
     "output_type": "stream",
     "text": [
      "3.0779078006744385 3.0779075622558594\n",
      "0.6932108652254101 0.17453292519943295\n",
      "0.5292728793283459 0.17453292519943295\n",
      "0.1801190328260418 0.17453292519943295\n"
     ]
    }
   ],
   "source": [
    "# turret.disable()"
   ]
  },
  {
   "cell_type": "code",
   "execution_count": null,
   "id": "a36614b1-61b9-4277-9ab5-5aad66e30d39",
   "metadata": {},
   "outputs": [],
   "source": []
  }
 ],
 "metadata": {
  "kernelspec": {
   "display_name": "Python 3 (ipykernel)",
   "language": "python",
   "name": "python3"
  },
  "language_info": {
   "codemirror_mode": {
    "name": "ipython",
    "version": 3
   },
   "file_extension": ".py",
   "mimetype": "text/x-python",
   "name": "python",
   "nbconvert_exporter": "python",
   "pygments_lexer": "ipython3",
   "version": "3.11.2"
  }
 },
 "nbformat": 4,
 "nbformat_minor": 5
}
