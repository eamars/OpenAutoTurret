{
 "cells": [
  {
   "cell_type": "code",
   "execution_count": 2,
   "id": "12b874f1-0aa9-4c08-82ed-0332097f0a4c",
   "metadata": {},
   "outputs": [],
   "source": [
    "from turret import Turret\n",
    "from cybergear_motor_controller import CyberGearMotorController\n",
    "import logging\n",
    "import can"
   ]
  },
  {
   "cell_type": "code",
   "execution_count": 3,
   "id": "d419e6ad-7d36-4dc7-a1bf-60f4f99d8d8f",
   "metadata": {},
   "outputs": [],
   "source": [
    "bus = can.Bus(channel=\"can0\", interface=\"socketcan\")\n",
    "pitch_motor = CyberGearMotorController(bus=bus, motor_can_id=100)\n",
    "yaw_motor = CyberGearMotorController(bus=bus, motor_can_id=101)\n",
    "turret = Turret(yaw_motor, pitch_motor, dict())"
   ]
  },
  {
   "cell_type": "code",
   "execution_count": 4,
   "id": "c75b5292-7512-4218-8fef-183e08405aed",
   "metadata": {},
   "outputs": [],
   "source": [
    "turret.zero_all()\n"
   ]
  },
  {
   "cell_type": "code",
   "execution_count": 5,
   "id": "fff8f505-cc1c-4c6a-bfa7-24c8b191ec67",
   "metadata": {},
   "outputs": [],
   "source": [
    "# Reset position\n",
    "\n",
    "yaw_motor.set_position(yaw_motor.get_travel() / 2)\n",
    "pitch_motor.set_position(pitch_motor.get_travel() / 2)"
   ]
  },
  {
   "cell_type": "code",
   "execution_count": 6,
   "id": "642718fa-87e2-45f4-9418-b0c37ecd9602",
   "metadata": {},
   "outputs": [],
   "source": [
    "turret.disable()"
   ]
  },
  {
   "cell_type": "code",
   "execution_count": null,
   "id": "73f6da6b-934e-4dd5-ab1a-c9b9097462c6",
   "metadata": {},
   "outputs": [],
   "source": []
  }
 ],
 "metadata": {
  "kernelspec": {
   "display_name": "Python 3 (ipykernel)",
   "language": "python",
   "name": "python3"
  },
  "language_info": {
   "codemirror_mode": {
    "name": "ipython",
    "version": 3
   },
   "file_extension": ".py",
   "mimetype": "text/x-python",
   "name": "python",
   "nbconvert_exporter": "python",
   "pygments_lexer": "ipython3",
   "version": "3.11.2"
  }
 },
 "nbformat": 4,
 "nbformat_minor": 5
}
