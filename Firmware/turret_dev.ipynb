{
 "cells": [
  {
   "cell_type": "code",
   "execution_count": 1,
   "id": "12b874f1-0aa9-4c08-82ed-0332097f0a4c",
   "metadata": {},
   "outputs": [],
   "source": [
    "from turret import Turret\n",
    "from cybergear_motor_controller import CyberGearMotorController\n",
    "import logging\n",
    "import can"
   ]
  },
  {
   "cell_type": "code",
   "execution_count": 2,
   "id": "d419e6ad-7d36-4dc7-a1bf-60f4f99d8d8f",
   "metadata": {},
   "outputs": [],
   "source": [
    "bus = can.Bus(channel=\"can0\", interface=\"socketcan\")\n",
    "pitch_motor = CyberGearMotorController(bus=bus, motor_can_id=100)\n",
    "yaw_motor = CyberGearMotorController(bus=bus, motor_can_id=101)\n",
    "turret = Turret(yaw_motor, pitch_motor, dict())"
   ]
  },
  {
   "cell_type": "code",
   "execution_count": 28,
   "id": "c75b5292-7512-4218-8fef-183e08405aed",
   "metadata": {},
   "outputs": [],
   "source": [
    "turret.zero_all()\n"
   ]
  },
  {
   "cell_type": "code",
   "execution_count": 4,
   "id": "35147aa9-b630-4083-bb2d-c8bf8b0ee0a0",
   "metadata": {},
   "outputs": [],
   "source": [
    "# turret.disable()"
   ]
  },
  {
   "cell_type": "code",
   "execution_count": 44,
   "id": "a36614b1-61b9-4277-9ab5-5aad66e30d39",
   "metadata": {},
   "outputs": [],
   "source": [
    "import time\n",
    "\n",
    "\n",
    "class VisionTurretController:\n",
    "    def __init__(self, turret, center_coordinate, yaw_config, pitch_config, queue):\n",
    "        self.turret = turret\n",
    "        self.center_coordinate = center_coordinate\n",
    "        self.yaw_config = yaw_config.copy()\n",
    "        self.pitch_config = pitch_config.copy()\n",
    "\n",
    "        self.queue = queue\n",
    "\n",
    "        # Private variables\n",
    "        self._last_sample_time = None\n",
    "        \n",
    "        # Initialize some variables\n",
    "        self.yaw_config[\"intergal\"] = 0\n",
    "        self.pitch_config[\"intergal\"] = 0\n",
    "        self.yaw_config[\"last_error\"] = 0\n",
    "        self.pitch_config[\"last_error\"] = 0\n",
    "\n",
    "    def update_coordinate(self, new_coordinate, *put_args, **put_kwargs):\n",
    "        self.queue.put(new_coordinate, *put_args, **put_kwargs)\n",
    "\n",
    "    def control(self):\n",
    "        new_coordinate = self.queue.get(block=True)\n",
    "\n",
    "        # Feedback\n",
    "        sample_time = time.time()\n",
    "        delta_x = self.center_coordinate[0] - new_coordinate[0]\n",
    "        delta_y = self.center_coordinate[1] - new_coordinate[1]\n",
    "\n",
    "        # Get current position\n",
    "        current_yaw = self.turret.yaw_motor.get_position()\n",
    "        current_pitch = self.turret.pitch_motor.get_position()\n",
    "\n",
    "        # Control\n",
    "        if self._last_sample_time is None:\n",
    "            self._last_sample_time = time.time()\n",
    "        dt = sample_time - self._last_sample_time\n",
    "\n",
    "        feed_forward_yaw = self.apply_feed_forward_control(current_yaw, self.yaw_config)\n",
    "        feed_forward_pitch = self.apply_feed_forward_control(current_pitch, self.yaw_config)\n",
    "\n",
    "        delta_yaw = self.apply_feed_back_kp_control(delta_x, self.yaw_config) + \\\n",
    "                    self.apply_feed_back_ki_control(delta_x, dt, self.yaw_config) + \\\n",
    "                    self.apply_feed_back_kd_control(delta_x, dt, self.yaw_config)\n",
    "\n",
    "        delta_pitch = self.apply_feed_back_kp_control(delta_y, self.yaw_config) + \\\n",
    "                      self.apply_feed_back_ki_control(delta_y, dt, self.pitch_config) + \\\n",
    "                      self.apply_feed_back_kd_control(delta_x, dt, self.pitch_config)\n",
    "\n",
    "        new_yaw = current_yaw + delta_yaw + feedforward_yaw\n",
    "        new_pitch = current_pitch + delta_pitch + feed_forward_pitch\n",
    "        \n",
    "        self.turret.yaw_motor.set_position(new_yaw)\n",
    "        self.turret.pitch_motor.set_position(new_pitch)\n",
    "    \n",
    "\n",
    "    def apply_feed_forward_control(self, set_point, config):\n",
    "        kf = config.get(\"kf\")\n",
    "        control = kf * set_point\n",
    "        return control\n",
    "\n",
    "    def apply_feed_back_kp_control(self, error, config):\n",
    "        kp = config.get(\"kp\")\n",
    "        control = kp * error\n",
    "        return control\n",
    "\n",
    "    def apply_feed_back_ki_control(self, error, dt, config):\n",
    "        ki = config.get(\"ki\")\n",
    "        config[\"intergal\"] += error\n",
    "        \n",
    "        control = ki * config[\"intergal\"]\n",
    "        return control\n",
    "\n",
    "    def apply_feed_back_kd_control(self, error, dt, config):\n",
    "        kd = config.get(\"kd\")\n",
    "        derivative = (error - config[\"last_error\"]) / dt\n",
    "\n",
    "        control = kd * derivative\n",
    "        return control\n",
    "\n",
    "\n",
    "        \n",
    "        \n",
    "        "
   ]
  },
  {
   "cell_type": "code",
   "execution_count": 50,
   "id": "5624503b-00d0-4154-858b-ec44d5f6840e",
   "metadata": {},
   "outputs": [],
   "source": [
    "yaw_config = dict(\n",
    "    kf=0,\n",
    "    kp=1,\n",
    "    ki=0,\n",
    "    kd=0,\n",
    ")\n",
    "\n",
    "pitch_config = dict(\n",
    "    kf=0,\n",
    "    kp=1,\n",
    "    ki=0,\n",
    "    kd=0,\n",
    ")\n",
    "\n",
    "center_coordinate = (320, 240)"
   ]
  },
  {
   "cell_type": "code",
   "execution_count": 51,
   "id": "9bfbbc20-4add-4514-881f-68514cd8b0fb",
   "metadata": {},
   "outputs": [],
   "source": [
    "from multiprocessing import Queue\n",
    "\n",
    "queue = Queue()\n",
    "\n"
   ]
  },
  {
   "cell_type": "code",
   "execution_count": 52,
   "id": "f409a5b5-99f1-4545-ad00-a5a527346678",
   "metadata": {},
   "outputs": [],
   "source": [
    "vision_controller = VisionTurretController(turret, center_coordinate, yaw_config, pitch_config, queue)\n"
   ]
  },
  {
   "cell_type": "code",
   "execution_count": 53,
   "id": "29c14ea8-c06f-42bc-9b3d-91fc2b8ecdbd",
   "metadata": {},
   "outputs": [
    {
     "name": "stdout",
     "output_type": "stream",
     "text": [
      "0.0 0.0\n"
     ]
    }
   ],
   "source": [
    "vision_controller.update_coordinate((320, 240))\n",
    "vision_controller.control()"
   ]
  },
  {
   "cell_type": "code",
   "execution_count": 49,
   "id": "fff8f505-cc1c-4c6a-bfa7-24c8b191ec67",
   "metadata": {},
   "outputs": [],
   "source": [
    "# Reset position\n",
    "\n",
    "yaw_motor.set_position(yaw_motor.get_travel() / 2)\n",
    "pitch_motor.set_position(pitch_motor.get_travel() / 2)"
   ]
  },
  {
   "cell_type": "code",
   "execution_count": null,
   "id": "642718fa-87e2-45f4-9418-b0c37ecd9602",
   "metadata": {},
   "outputs": [],
   "source": []
  }
 ],
 "metadata": {
  "kernelspec": {
   "display_name": "Python 3 (ipykernel)",
   "language": "python",
   "name": "python3"
  },
  "language_info": {
   "codemirror_mode": {
    "name": "ipython",
    "version": 3
   },
   "file_extension": ".py",
   "mimetype": "text/x-python",
   "name": "python",
   "nbconvert_exporter": "python",
   "pygments_lexer": "ipython3",
   "version": "3.11.2"
  }
 },
 "nbformat": 4,
 "nbformat_minor": 5
}
